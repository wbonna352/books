{
 "cells": [
  {
   "cell_type": "code",
   "execution_count": 2,
   "metadata": {
    "collapsed": true
   },
   "outputs": [],
   "source": [
    "import numpy as np\n",
    "import pandas as pd\n",
    "\n",
    "import matplotlib.pyplot as plt\n",
    "import seaborn as sns\n",
    "\n",
    "import psycopg2"
   ]
  },
  {
   "cell_type": "code",
   "execution_count": 3,
   "outputs": [],
   "source": [
    "host = 'localhost'\n",
    "username = 'postgres'\n",
    "password = 'postgres'\n",
    "database = 'books'\n",
    "\n",
    "conn = psycopg2.connect(\n",
    "    host=host,\n",
    "    database=database,\n",
    "    user=username,\n",
    "    password=password\n",
    ")\n",
    "\n",
    "cursor = conn.cursor()"
   ],
   "metadata": {
    "collapsed": false,
    "pycharm": {
     "name": "#%%\n"
    }
   }
  },
  {
   "cell_type": "code",
   "execution_count": 5,
   "outputs": [],
   "source": [
    "books = pd.read_sql_query(con=conn, sql='SELECT * FROM lubimyczytac.books')"
   ],
   "metadata": {
    "collapsed": false,
    "pycharm": {
     "name": "#%%\n"
    }
   }
  },
  {
   "cell_type": "code",
   "execution_count": 7,
   "outputs": [
    {
     "data": {
      "text/plain": "       book_id                                           book_url  \\\n39098   116541   https://lubimyczytac.pl/ksiazka/116541/auschwitz   \n10616   252265  https://lubimyczytac.pl/ksiazka/252265/ulica-m...   \n79763  4954406  https://lubimyczytac.pl/ksiazka/4954406/dlacze...   \n80811    36216  https://lubimyczytac.pl/ksiazka/36216/kobieta-...   \n55078   212579  https://lubimyczytac.pl/ksiazka/212579/emilka-...   \n\n                                   title              author  \\\n39098                          Auschwitz        Pascal Croci   \n10616             Ulica Milczenia. Tom 1         Ann Cleeves   \n79763       Dlaczego liberalizm zawiódł?   Patrick J. Deneen   \n80811                Kobieta i mężczyźni  Manuela Gretkowska   \n55078  Emilka Piórko i tajemnicze lustro          Holly Webb   \n\n                                              author_url  \\\n39098   https://lubimyczytac.pl/autor/57842/pascal-croci   \n10616    https://lubimyczytac.pl/autor/14046/ann-cleeves   \n79763  https://lubimyczytac.pl/autor/165697/patrick-j...   \n80811  https://lubimyczytac.pl/autor/17581/manuela-gr...   \n55078     https://lubimyczytac.pl/autor/39275/holly-webb   \n\n                              series  \\\n39098                           None   \n10616        Vera Stanhope (tom 6.1)   \n79763  Biblioteka Myśli Współczesnej   \n80811              Nowa proza polska   \n55078                           None   \n\n                                              series_url  \\\n39098                                               None   \n10616    https://lubimyczytac.pl/cykl/1072/vera-stanhope   \n79763  https://lubimyczytac.pl/seria/862/biblioteka-m...   \n80811  https://lubimyczytac.pl/seria/815/nowa-proza-p...   \n55078                                               None   \n\n                   title_org                      publisher publication_date  \\\n39098                   None                Norma Editorial       2003-01-01   \n10616         Harbour Street                          Amber       2015-04-10   \n79763  Why Liberalism Failed  Państwowy Instytut Wydawniczy       2021-03-10   \n80811                   None                  Świat Książki       2007-01-01   \n55078                   None                  Znak emotikon       2014-03-31   \n\n       ... rate_8 rate_7 rate_6  rate_5 rate_4 rate_3 rate_2  rate_1  \\\n39098  ...      1      3      8       5      0      0      0       0   \n10616  ...     18     43     40       2      1      4      0       0   \n79763  ...      3      1      1       1      1      0      0       0   \n80811  ...     42    187    189     196     48     61     17      20   \n55078  ...      4      4      4       1      0      0      0       0   \n\n                 status_datetime                      category  \n39098 2021-12-02 12:43:18.367109                       komiksy  \n10616 2021-11-30 19:30:21.785573  kryminał, sensacja, thriller  \n79763 2021-11-29 12:55:56.950638                          None  \n80811 2021-11-30 00:48:02.721418             literatura piękna  \n55078 2021-12-02 08:44:30.531403          literatura dziecięca  \n\n[5 rows x 33 columns]",
      "text/html": "<div>\n<style scoped>\n    .dataframe tbody tr th:only-of-type {\n        vertical-align: middle;\n    }\n\n    .dataframe tbody tr th {\n        vertical-align: top;\n    }\n\n    .dataframe thead th {\n        text-align: right;\n    }\n</style>\n<table border=\"1\" class=\"dataframe\">\n  <thead>\n    <tr style=\"text-align: right;\">\n      <th></th>\n      <th>book_id</th>\n      <th>book_url</th>\n      <th>title</th>\n      <th>author</th>\n      <th>author_url</th>\n      <th>series</th>\n      <th>series_url</th>\n      <th>title_org</th>\n      <th>publisher</th>\n      <th>publication_date</th>\n      <th>...</th>\n      <th>rate_8</th>\n      <th>rate_7</th>\n      <th>rate_6</th>\n      <th>rate_5</th>\n      <th>rate_4</th>\n      <th>rate_3</th>\n      <th>rate_2</th>\n      <th>rate_1</th>\n      <th>status_datetime</th>\n      <th>category</th>\n    </tr>\n  </thead>\n  <tbody>\n    <tr>\n      <th>39098</th>\n      <td>116541</td>\n      <td>https://lubimyczytac.pl/ksiazka/116541/auschwitz</td>\n      <td>Auschwitz</td>\n      <td>Pascal Croci</td>\n      <td>https://lubimyczytac.pl/autor/57842/pascal-croci</td>\n      <td>None</td>\n      <td>None</td>\n      <td>None</td>\n      <td>Norma Editorial</td>\n      <td>2003-01-01</td>\n      <td>...</td>\n      <td>1</td>\n      <td>3</td>\n      <td>8</td>\n      <td>5</td>\n      <td>0</td>\n      <td>0</td>\n      <td>0</td>\n      <td>0</td>\n      <td>2021-12-02 12:43:18.367109</td>\n      <td>komiksy</td>\n    </tr>\n    <tr>\n      <th>10616</th>\n      <td>252265</td>\n      <td>https://lubimyczytac.pl/ksiazka/252265/ulica-m...</td>\n      <td>Ulica Milczenia. Tom 1</td>\n      <td>Ann Cleeves</td>\n      <td>https://lubimyczytac.pl/autor/14046/ann-cleeves</td>\n      <td>Vera Stanhope (tom 6.1)</td>\n      <td>https://lubimyczytac.pl/cykl/1072/vera-stanhope</td>\n      <td>Harbour Street</td>\n      <td>Amber</td>\n      <td>2015-04-10</td>\n      <td>...</td>\n      <td>18</td>\n      <td>43</td>\n      <td>40</td>\n      <td>2</td>\n      <td>1</td>\n      <td>4</td>\n      <td>0</td>\n      <td>0</td>\n      <td>2021-11-30 19:30:21.785573</td>\n      <td>kryminał, sensacja, thriller</td>\n    </tr>\n    <tr>\n      <th>79763</th>\n      <td>4954406</td>\n      <td>https://lubimyczytac.pl/ksiazka/4954406/dlacze...</td>\n      <td>Dlaczego liberalizm zawiódł?</td>\n      <td>Patrick J. Deneen</td>\n      <td>https://lubimyczytac.pl/autor/165697/patrick-j...</td>\n      <td>Biblioteka Myśli Współczesnej</td>\n      <td>https://lubimyczytac.pl/seria/862/biblioteka-m...</td>\n      <td>Why Liberalism Failed</td>\n      <td>Państwowy Instytut Wydawniczy</td>\n      <td>2021-03-10</td>\n      <td>...</td>\n      <td>3</td>\n      <td>1</td>\n      <td>1</td>\n      <td>1</td>\n      <td>1</td>\n      <td>0</td>\n      <td>0</td>\n      <td>0</td>\n      <td>2021-11-29 12:55:56.950638</td>\n      <td>None</td>\n    </tr>\n    <tr>\n      <th>80811</th>\n      <td>36216</td>\n      <td>https://lubimyczytac.pl/ksiazka/36216/kobieta-...</td>\n      <td>Kobieta i mężczyźni</td>\n      <td>Manuela Gretkowska</td>\n      <td>https://lubimyczytac.pl/autor/17581/manuela-gr...</td>\n      <td>Nowa proza polska</td>\n      <td>https://lubimyczytac.pl/seria/815/nowa-proza-p...</td>\n      <td>None</td>\n      <td>Świat Książki</td>\n      <td>2007-01-01</td>\n      <td>...</td>\n      <td>42</td>\n      <td>187</td>\n      <td>189</td>\n      <td>196</td>\n      <td>48</td>\n      <td>61</td>\n      <td>17</td>\n      <td>20</td>\n      <td>2021-11-30 00:48:02.721418</td>\n      <td>literatura piękna</td>\n    </tr>\n    <tr>\n      <th>55078</th>\n      <td>212579</td>\n      <td>https://lubimyczytac.pl/ksiazka/212579/emilka-...</td>\n      <td>Emilka Piórko i tajemnicze lustro</td>\n      <td>Holly Webb</td>\n      <td>https://lubimyczytac.pl/autor/39275/holly-webb</td>\n      <td>None</td>\n      <td>None</td>\n      <td>None</td>\n      <td>Znak emotikon</td>\n      <td>2014-03-31</td>\n      <td>...</td>\n      <td>4</td>\n      <td>4</td>\n      <td>4</td>\n      <td>1</td>\n      <td>0</td>\n      <td>0</td>\n      <td>0</td>\n      <td>0</td>\n      <td>2021-12-02 08:44:30.531403</td>\n      <td>literatura dziecięca</td>\n    </tr>\n  </tbody>\n</table>\n<p>5 rows × 33 columns</p>\n</div>"
     },
     "execution_count": 7,
     "metadata": {},
     "output_type": "execute_result"
    }
   ],
   "source": [
    "books.sample(5)"
   ],
   "metadata": {
    "collapsed": false,
    "pycharm": {
     "name": "#%%\n"
    }
   }
  },
  {
   "cell_type": "code",
   "execution_count": 9,
   "outputs": [
    {
     "name": "stdout",
     "output_type": "stream",
     "text": [
      "<class 'pandas.core.frame.DataFrame'>\n",
      "RangeIndex: 98457 entries, 0 to 98456\n",
      "Data columns (total 33 columns):\n",
      " #   Column                         Non-Null Count  Dtype         \n",
      "---  ------                         --------------  -----         \n",
      " 0   book_id                        98457 non-null  int64         \n",
      " 1   book_url                       98457 non-null  object        \n",
      " 2   title                          98457 non-null  object        \n",
      " 3   author                         98183 non-null  object        \n",
      " 4   author_url                     98183 non-null  object        \n",
      " 5   series                         47259 non-null  object        \n",
      " 6   series_url                     47259 non-null  object        \n",
      " 7   title_org                      54919 non-null  object        \n",
      " 8   publisher                      97827 non-null  object        \n",
      " 9   publication_date               98457 non-null  object        \n",
      " 10  first_publication_date_poland  93897 non-null  object        \n",
      " 11  first_publication_date         15416 non-null  object        \n",
      " 12  reading_time                   92499 non-null  object        \n",
      " 13  pages                          92499 non-null  float64       \n",
      " 14  language                       98457 non-null  object        \n",
      " 15  isbn                           92901 non-null  object        \n",
      " 16  translator                     52380 non-null  object        \n",
      " 17  rates_count                    98457 non-null  int64         \n",
      " 18  opinions_count                 98457 non-null  int64         \n",
      " 19  discussions_count              98457 non-null  int64         \n",
      " 20  rating                         98457 non-null  float64       \n",
      " 21  rate_10                        98457 non-null  int64         \n",
      " 22  rate_9                         98457 non-null  int64         \n",
      " 23  rate_8                         98457 non-null  int64         \n",
      " 24  rate_7                         98457 non-null  int64         \n",
      " 25  rate_6                         98457 non-null  int64         \n",
      " 26  rate_5                         98457 non-null  int64         \n",
      " 27  rate_4                         98457 non-null  int64         \n",
      " 28  rate_3                         98457 non-null  int64         \n",
      " 29  rate_2                         98457 non-null  int64         \n",
      " 30  rate_1                         98457 non-null  int64         \n",
      " 31  status_datetime                98457 non-null  datetime64[ns]\n",
      " 32  category                       91097 non-null  object        \n",
      "dtypes: datetime64[ns](1), float64(2), int64(14), object(16)\n",
      "memory usage: 24.8+ MB\n"
     ]
    }
   ],
   "source": [
    "books.info()"
   ],
   "metadata": {
    "collapsed": false,
    "pycharm": {
     "name": "#%%\n"
    }
   }
  },
  {
   "cell_type": "code",
   "execution_count": 47,
   "outputs": [
    {
     "data": {
      "text/plain": "<Figure size 1080x360 with 1 Axes>",
      "image/png": "[encoded data removed]"
     },
     "metadata": {
      "needs_background": "light"
     },
     "output_type": "display_data"
    },
    {
     "data": {
      "text/plain": "          qty   pct\nrate               \n1      177857  0.01\n2      165013  0.01\n3      545983  0.02\n4      659867  0.03\n5     2034437  0.08\n6     4201889  0.17\n7     6876930  0.27\n8     5226794  0.21\n9     3041498  0.12\n10    2463385  0.10",
      "text/html": "<div>\n<style scoped>\n    .dataframe tbody tr th:only-of-type {\n        vertical-align: middle;\n    }\n\n    .dataframe tbody tr th {\n        vertical-align: top;\n    }\n\n    .dataframe thead th {\n        text-align: right;\n    }\n</style>\n<table border=\"1\" class=\"dataframe\">\n  <thead>\n    <tr style=\"text-align: right;\">\n      <th></th>\n      <th>qty</th>\n      <th>pct</th>\n    </tr>\n    <tr>\n      <th>rate</th>\n      <th></th>\n      <th></th>\n    </tr>\n  </thead>\n  <tbody>\n    <tr>\n      <th>1</th>\n      <td>177857</td>\n      <td>0.01</td>\n    </tr>\n    <tr>\n      <th>2</th>\n      <td>165013</td>\n      <td>0.01</td>\n    </tr>\n    <tr>\n      <th>3</th>\n      <td>545983</td>\n      <td>0.02</td>\n    </tr>\n    <tr>\n      <th>4</th>\n      <td>659867</td>\n      <td>0.03</td>\n    </tr>\n    <tr>\n      <th>5</th>\n      <td>2034437</td>\n      <td>0.08</td>\n    </tr>\n    <tr>\n      <th>6</th>\n      <td>4201889</td>\n      <td>0.17</td>\n    </tr>\n    <tr>\n      <th>7</th>\n      <td>6876930</td>\n      <td>0.27</td>\n    </tr>\n    <tr>\n      <th>8</th>\n      <td>5226794</td>\n      <td>0.21</td>\n    </tr>\n    <tr>\n      <th>9</th>\n      <td>3041498</td>\n      <td>0.12</td>\n    </tr>\n    <tr>\n      <th>10</th>\n      <td>2463385</td>\n      <td>0.10</td>\n    </tr>\n  </tbody>\n</table>\n</div>"
     },
     "execution_count": 47,
     "metadata": {},
     "output_type": "execute_result"
    }
   ],
   "source": [
    "rates_cols = [col for col in books.columns if col.startswith('rate_')]\n",
    "rates_qties = books[rates_cols].sum().to_frame().reset_index()\n",
    "rates_qties.columns = ['rate', 'qty']\n",
    "rates_qties['rate'] = rates_qties['rate'].apply(lambda row: int(row[5:]))\n",
    "rates_qties.set_index('rate', inplace=True)\n",
    "rates_qties['pct'] = rates_qties['qty'] / rates_qties['qty'].sum()\n",
    "sns.catplot(\n",
    "    data=rates_qties.reset_index(),\n",
    "    x='rate',\n",
    "    y='qty',\n",
    "    kind='bar',\n",
    "    aspect=3,\n",
    "    color='#404041'\n",
    ")\n",
    "plt.show()\n",
    "\n",
    "rates_qties.sort_index().round(2)"
   ],
   "metadata": {
    "collapsed": false,
    "pycharm": {
     "name": "#%%\n"
    }
   }
  }
 ],
 "metadata": {
  "kernelspec": {
   "display_name": "Python 3",
   "language": "python",
   "name": "python3"
  },
  "language_info": {
   "codemirror_mode": {
    "name": "ipython",
    "version": 2
   },
   "file_extension": ".py",
   "mimetype": "text/x-python",
   "name": "python",
   "nbconvert_exporter": "python",
   "pygments_lexer": "ipython2",
   "version": "2.7.6"
  }
 },
 "nbformat": 4,
 "nbformat_minor": 0
}